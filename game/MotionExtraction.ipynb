{
 "cells": [
  {
   "cell_type": "markdown",
   "id": "28cf7764",
   "metadata": {},
   "source": [
    "# COMP3419 Assignment 2 Option1\n",
    "## Preprocessing code file\n",
    "### SID: 470319066\n",
    "\n",
    "#### Preprocess the Marionette video using openCV"
   ]
  },
  {
   "cell_type": "code",
   "execution_count": 1,
   "id": "3e55a5e2",
   "metadata": {},
   "outputs": [],
   "source": [
    "import sys\n",
    "import os\n",
    "import cv2\n",
    "import math\n",
    "import numpy as np\n",
    "from imageio import imread, imsave\n",
    "from IPython.display import clear_output\n",
    "from matplotlib import pyplot as plt \n",
    "%matplotlib inline\n"
   ]
  },
  {
   "cell_type": "markdown",
   "id": "a1607e1d",
   "metadata": {},
   "source": [
    "## 1. Create folders to store extracted frames and processed images"
   ]
  },
  {
   "cell_type": "code",
   "execution_count": 2,
   "id": "947f0636",
   "metadata": {},
   "outputs": [
    {
     "name": "stdout",
     "output_type": "stream",
     "text": [
      "raw folder already exists\n",
      "binary folder already exists\n",
      "morhp folder already exists\n",
      "processed folder already exists\n"
     ]
    }
   ],
   "source": [
    "# Create folders to store frames for processing\n",
    "if not os.path.isdir(os.path.join(os.getcwd(), 'raw')):\n",
    "    os.mkdir(\"raw\")\n",
    "else:\n",
    "    print('raw folder already exists')\n",
    "\n",
    "if not os.path.isdir(os.path.join(os.getcwd(), 'binary')):\n",
    "    os.mkdir(\"binary\")\n",
    "else:\n",
    "    print('binary folder already exists')\n",
    "\n",
    "if not os.path.isdir(os.path.join(os.getcwd(), 'morhp')):\n",
    "    os.mkdir(\"morhp\")\n",
    "else:\n",
    "    print('morhp folder already exists')\n",
    "\n",
    "if not os.path.isdir(os.path.join(os.getcwd(), 'processed')):\n",
    "    os.mkdir(\"processed\")\n",
    "else:\n",
    "    print('processed folder already exists')"
   ]
  },
  {
   "cell_type": "markdown",
   "id": "522d1e8d",
   "metadata": {},
   "source": [
    "## 2. Extract frames from Marionette video"
   ]
  },
  {
   "cell_type": "code",
   "execution_count": 3,
   "id": "a1d3e4bb",
   "metadata": {},
   "outputs": [
    {
     "name": "stdout",
     "output_type": "stream",
     "text": [
      "Extracting: 952\n"
     ]
    }
   ],
   "source": [
    "# Path to the Input video\n",
    "path_to_video = 'inputVid.mov'\n",
    "\n",
    "# Capture video and get video/frame details\n",
    "framenumber = 0\n",
    "framectr = 0\n",
    "vid = cv2.VideoCapture(path_to_video)\n",
    "fy = vid.get(cv2.CAP_PROP_FRAME_HEIGHT)  \n",
    "fx = vid.get(cv2.CAP_PROP_FRAME_WIDTH)\n",
    "\n",
    "\n",
    "# Extract the frames from  video\n",
    "while(1):\n",
    "    ret, frame = vid.read()\n",
    "    if not ret:\n",
    "        break\n",
    "    print('Extracting: %d' % framenumber)\n",
    "    clear_output(wait=True)\n",
    "    cv2.imwrite('raw/%d.tif' % framenumber, frame)\n",
    "    framenumber += 1\n",
    "vid.release()"
   ]
  },
  {
   "cell_type": "markdown",
   "id": "b7b8c61a",
   "metadata": {},
   "source": [
    "## 3. Erosion, Dilation, Padding functions"
   ]
  },
  {
   "cell_type": "code",
   "execution_count": 4,
   "id": "b453ba8a",
   "metadata": {},
   "outputs": [],
   "source": [
    "# erosion, dilation, padding functions\n",
    "\n",
    "# padding on binary matrix\n",
    "def add_padding(binary_matrix, se_size):\n",
    "    pad_size = int(se_size / 2)\n",
    "    # specify the pading for three dimensions\n",
    "    # ((1,1), (1,1), (0,0)) => 1 padding for left and right, \n",
    "    #                          1 padding for top and bottom, \n",
    "    #                          no padding for color channels\n",
    "    padding_2_dims = ((pad_size, pad_size), (pad_size, pad_size))\n",
    "    matrix_padded = np.pad(binary_matrix, padding_2_dims, 'constant', constant_values=0)\n",
    "    return matrix_padded\n",
    "\n",
    "\n",
    "\n",
    "# dilation\n",
    "def dilation(binary_matrix, SE): # SE: Structuring element\n",
    "    if np.max(binary_matrix) == 255:\n",
    "        binary_matrix = binary_matrix / 255\n",
    "\n",
    "    dilated_matrix = np.zeros(binary_matrix.shape)\n",
    "    \n",
    "    SE_size = SE.shape[0]\n",
    "    radius = int(SE_size / 2)\n",
    "\n",
    "    height_max, width_max  = binary_matrix.shape\n",
    "    \n",
    "    # pad img\n",
    "    binary_matrix_padded = add_padding(binary_matrix, SE_size)\n",
    "    \n",
    "    for row_idx in range(height_max):\n",
    "        for col_idx in range(width_max):\n",
    "            if np.sum(SE*binary_matrix_padded[row_idx : row_idx + SE_size, col_idx : col_idx + SE_size]) > 0:\n",
    "                dilated_matrix[row_idx, col_idx] = 1\n",
    "\n",
    "\n",
    "    dilated_matrix *= 255\n",
    "    return np.array(dilated_matrix)\n",
    "\n",
    "\n",
    "\n",
    "# erosion\n",
    "def erosion(binary_matrix, SE):\n",
    "    if np.max(binary_matrix) == 255:\n",
    "        binary_matrix = binary_matrix / 255\n",
    "        \n",
    "    eroded_matrix = np.zeros(binary_matrix.shape)\n",
    "\n",
    "    SE_size = SE.shape[0]\n",
    "    radius = int(SE_size / 2)\n",
    "    \n",
    "    height_max, width_max  = binary_matrix.shape\n",
    "\n",
    "    # pad img\n",
    "    binary_matrix_padded = add_padding(binary_matrix, SE_size)\n",
    "\n",
    "    for row_idx in range (radius, height_max-1):\n",
    "        for col_idx in range (radius, width_max-1):\n",
    "            if binary_matrix[row_idx, col_idx] == 1 and np.sum(SE*binary_matrix_padded[row_idx : row_idx + SE_size, col_idx : col_idx + SE_size]) == np.sum(SE):\n",
    "                eroded_matrix[row_idx, col_idx] = 1\n",
    "\n",
    "    return np.array(eroded_matrix)"
   ]
  },
  {
   "cell_type": "markdown",
   "id": "8e83e3ea",
   "metadata": {},
   "source": [
    "## 4. Function to turn eroded/dilated shape into Square\n",
    "#### (For visualisation purpose)"
   ]
  },
  {
   "cell_type": "code",
   "execution_count": 5,
   "id": "d26ecbcf",
   "metadata": {},
   "outputs": [],
   "source": [
    "# turn into square\n",
    "def toRect(binary_matrix, radius, percent):\n",
    "    if np.max(binary_matrix) == 255:\n",
    "        binary_matrix = binary_matrix / 255\n",
    "\n",
    "    rect_matrix = np.zeros(binary_matrix.shape)\n",
    "\n",
    "    height_max, width_max  = binary_matrix.shape\n",
    "\n",
    "    binary_matrix_padded = add_padding(binary_matrix, radius*2)\n",
    "    padded_hmax, padded_wmax = binary_matrix_padded.shape\n",
    "\n",
    "    d = 2*radius\n",
    "\n",
    "    for row_idx in range(height_max):\n",
    "        for col_idx in range(width_max):\n",
    "            if np.sum(binary_matrix_padded[row_idx-radius : row_idx+radius, col_idx-radius : col_idx+radius]) > d*d*percent: # more than 25% occuppied\n",
    "                rect_matrix[row_idx, col_idx] = 1\n",
    "                rl = max(0, col_idx-radius) \n",
    "                rr = min(width_max-1, col_idx+radius)\n",
    "                rt = max(0, row_idx-radius) \n",
    "                rb = min(height_max-1, row_idx+radius)\n",
    "\n",
    "                bl = max(0, col_idx-2*radius) \n",
    "                br = min(padded_wmax-1, col_idx+2*radius)\n",
    "                bt = max(0, row_idx-2*radius) \n",
    "                bb = min(padded_hmax-1, row_idx+2*radius)\n",
    "                rect_matrix[rt : rb, rl] = 1\n",
    "                rect_matrix[rt : rb, rr] = 1\n",
    "                rect_matrix[rt, rl : rr] = 1\n",
    "                rect_matrix[rb, rl : rr] = 1\n",
    "                binary_matrix_padded[bt : bb, bl : br] *= 0\n",
    "\n",
    "    return rect_matrix\n"
   ]
  },
  {
   "cell_type": "markdown",
   "id": "41a6f4fd",
   "metadata": {},
   "source": [
    "## 5. Function to turn eroded/dilated shape into a Single point"
   ]
  },
  {
   "cell_type": "code",
   "execution_count": 6,
   "id": "64f39b83",
   "metadata": {},
   "outputs": [],
   "source": [
    "# turn into points  \n",
    "def toPoint(binary_matrix, radius, percent):\n",
    "    if np.max(binary_matrix) == 255:\n",
    "        binary_matrix = binary_matrix / 255\n",
    "\n",
    "    height_max, width_max  = binary_matrix.shape\n",
    "\n",
    "    binary_matrix_padded = add_padding(binary_matrix, radius*2)\n",
    "    padded_hmax, padded_wmax = binary_matrix_padded.shape\n",
    "\n",
    "    d = 2*radius\n",
    "\n",
    "    points = []\n",
    "    for row_idx in range(height_max):\n",
    "        for col_idx in range(width_max):\n",
    "            # if more than some % of defined area are occuppied\n",
    "            if np.sum(binary_matrix_padded[row_idx-radius : row_idx+radius, col_idx-radius : col_idx+radius]) > d*d*percent: \n",
    "                points.append([row_idx, col_idx]) \n",
    "\n",
    "                bl = max(0, col_idx-2*radius) \n",
    "                br = min(padded_wmax-1, col_idx+2*radius)\n",
    "                bt = max(0, row_idx-2*radius) \n",
    "                bb = min(padded_hmax-1, row_idx+2*radius)\n",
    "                binary_matrix_padded[bt : bb, bl : br] *= 0\n",
    "\n",
    "    return points"
   ]
  },
  {
   "cell_type": "markdown",
   "id": "c737caac",
   "metadata": {},
   "source": [
    "## 6. Sample frame testing/visualisation\n",
    "#### (Jump to Section 7 for Processing of all frames)"
   ]
  },
  {
   "cell_type": "markdown",
   "id": "f46fa6ce",
   "metadata": {},
   "source": [
    "### 6.1 Get a sample raw frame and turn into Binary image base on some threshold"
   ]
  },
  {
   "cell_type": "code",
   "execution_count": 7,
   "id": "f07bc97c",
   "metadata": {},
   "outputs": [
    {
     "name": "stderr",
     "output_type": "stream",
     "text": [
      "C:\\Users\\wenji\\AppData\\Local\\Temp\\ipykernel_12532\\4278775756.py:4: DeprecationWarning: Starting with ImageIO v3 the behavior of this function will switch to that of iio.v3.imread. To keep the current behavior (and make this warning dissapear) use `import imageio.v2 as imageio` or call `imageio.v2.imread` directly.\n",
      "  rgb_img = imread('raw/%d.tif' % process_frame)\n"
     ]
    },
    {
     "data": {
      "text/plain": [
       "<matplotlib.image.AxesImage at 0x1e1742bd3d0>"
      ]
     },
     "execution_count": 7,
     "metadata": {},
     "output_type": "execute_result"
    },
    {
     "data": {
      "image/png": "[encoded data removed]",
      "text/plain": [
       "<Figure size 432x288 with 1 Axes>"
      ]
     },
     "metadata": {
      "needs_background": "light"
     },
     "output_type": "display_data"
    }
   ],
   "source": [
    "# Sample frame\n",
    "process_frame = 0\n",
    "\n",
    "rgb_img = imread('raw/%d.tif' % process_frame)\n",
    "\n",
    "R = rgb_img[:,:,0]\n",
    "G = rgb_img[:,:,1]\n",
    "B = rgb_img[:,:,2]\n",
    "\n",
    "# turn binary by some threshold\n",
    "r_thre = (R > 150)\n",
    "g_thre = (G < 110)\n",
    "b_thre = (B < 130)\n",
    "binary_matrix = r_thre * g_thre * b_thre # 2d array 320h * 568w\n",
    "binary_img = binary_matrix * 255 \n",
    "plt.imshow(binary_img, cmap='gray')\n"
   ]
  },
  {
   "cell_type": "markdown",
   "id": "f967449d",
   "metadata": {},
   "source": [
    "### 6.2 Apply Erosion to remove nosie"
   ]
  },
  {
   "cell_type": "code",
   "execution_count": 8,
   "id": "d024621b",
   "metadata": {},
   "outputs": [
    {
     "data": {
      "text/plain": [
       "<matplotlib.image.AxesImage at 0x1e174a5e520>"
      ]
     },
     "execution_count": 8,
     "metadata": {},
     "output_type": "execute_result"
    },
    {
     "data": {
      "image/png": "[encoded data removed]",
      "text/plain": [
       "<Figure size 432x288 with 1 Axes>"
      ]
     },
     "metadata": {
      "needs_background": "light"
     },
     "output_type": "display_data"
    }
   ],
   "source": [
    "# structuring element\n",
    "SEe = np.ones((3,3))\n",
    "\n",
    "# erode img\n",
    "eroded_img = erosion(binary_img, SEe)\n",
    "plt.imshow(eroded_img, cmap='gray')"
   ]
  },
  {
   "cell_type": "markdown",
   "id": "0502d146",
   "metadata": {},
   "source": [
    "### 6.3 Apply Dilation to connect area of same body part"
   ]
  },
  {
   "cell_type": "code",
   "execution_count": 9,
   "id": "935c66ff",
   "metadata": {},
   "outputs": [
    {
     "data": {
      "text/plain": [
       "<matplotlib.image.AxesImage at 0x1e174c4d490>"
      ]
     },
     "execution_count": 9,
     "metadata": {},
     "output_type": "execute_result"
    },
    {
     "data": {
      "image/png": "[encoded data removed]",
      "text/plain": [
       "<Figure size 432x288 with 1 Axes>"
      ]
     },
     "metadata": {
      "needs_background": "light"
     },
     "output_type": "display_data"
    }
   ],
   "source": [
    "# structuring element\n",
    "SEd = np.ones((20,20))\n",
    "\n",
    "# dilate img\n",
    "dilated_img = dilation(eroded_img, SEd)\n",
    "plt.imshow(dilated_img, cmap='gray')"
   ]
  },
  {
   "cell_type": "markdown",
   "id": "58f517c0",
   "metadata": {},
   "source": [
    "### 6.4 Turn into square and get centriod coordinate"
   ]
  },
  {
   "cell_type": "code",
   "execution_count": 10,
   "id": "49c74d26",
   "metadata": {},
   "outputs": [
    {
     "data": {
      "text/plain": [
       "<matplotlib.image.AxesImage at 0x1e174e1ea00>"
      ]
     },
     "execution_count": 10,
     "metadata": {},
     "output_type": "execute_result"
    },
    {
     "data": {
      "image/png": "[encoded data removed]",
      "text/plain": [
       "<Figure size 432x288 with 1 Axes>"
      ]
     },
     "metadata": {
      "needs_background": "light"
     },
     "output_type": "display_data"
    }
   ],
   "source": [
    "rect_img = toRect(dilated_img, 20, 0.25)\n",
    "plt.imshow(rect_img, cmap='gray')"
   ]
  },
  {
   "cell_type": "code",
   "execution_count": 11,
   "id": "8ff2c5ce",
   "metadata": {},
   "outputs": [
    {
     "name": "stdout",
     "output_type": "stream",
     "text": [
      "[[74, 300], [123, 202], [165, 283], [233, 278], [261, 248]]\n"
     ]
    }
   ],
   "source": [
    "points = toPoint(dilated_img, 20, 0.25)\n",
    "print(points)"
   ]
  },
  {
   "cell_type": "markdown",
   "id": "8d3c54d6",
   "metadata": {},
   "source": [
    "## 7. Process the raw frames\n",
    "#### 1. Turn into binary image base on some rgb threshold \n",
    "#### 2. erode to remove noise\n",
    "#### 3. dilate to connect disjointed area of same body part\n",
    "#### 4. turn into square base on % of area occupied and get centriod coordinate\n",
    "#### 5. keep a 2D Python list that stores all points (num_of_frames * points_in_frame)"
   ]
  },
  {
   "cell_type": "code",
   "execution_count": 12,
   "id": "96afdebd",
   "metadata": {},
   "outputs": [
    {
     "name": "stdout",
     "output_type": "stream",
     "text": [
      "2 [[78, 308], [147, 204], [166, 284], [223, 272], [254, 254]]\n"
     ]
    }
   ],
   "source": [
    "# process frame, counter variables\n",
    "framectr = framenumber - 1\n",
    "process_frame = 0\n",
    "\n",
    "# structuring element\n",
    "SEe = np.ones((3,3))\n",
    "SEd = np.ones((20,20))\n",
    "\n",
    "# stores the coordinates for each frame\n",
    "points_allframe = []\n",
    "\n",
    "# process each frame\n",
    "while process_frame < framectr:\n",
    "    rgb_img = imread('raw/%d.tif' % process_frame)\n",
    "\n",
    "    R = rgb_img[:,:,0]\n",
    "    G = rgb_img[:,:,1]\n",
    "    B = rgb_img[:,:,2]\n",
    "\n",
    "    # turn binary by some threshold\n",
    "    r_thre = (R > 150)\n",
    "    g_thre = (G < 110)\n",
    "    b_thre = (B < 130)\n",
    "    binary_matrix = r_thre * g_thre * b_thre\n",
    "\n",
    "    # process binary image (erode + dilate)\n",
    "    binary_matrix = erosion(binary_matrix, SEe)\n",
    "    binary_matrix = dilation(binary_matrix, SEd)\n",
    "\n",
    "    # get result points\n",
    "    points_currframe = toPoint(binary_matrix, 20, 0.25)\n",
    "    points_allframe.append(points_currframe)\n",
    "\n",
    "    print(process_frame, points_currframe)\n",
    "    clear_output(wait=True)\n",
    "\n",
    "    # for visualisation purpose, COMMENT THE 3 LINES BELOW TO INCREASE THE PROCESSING SPEED\n",
    "    rect_matrix = toRect(binary_matrix, 20, 0.25)\n",
    "    rect_matrix = rect_matrix * 255\n",
    "    cv2.imwrite('morhpNew/%d.tif' % process_frame, rect_matrix)\n",
    "\n",
    "    #process next frame\n",
    "    process_frame+=1"
   ]
  },
  {
   "cell_type": "code",
   "execution_count": 13,
   "id": "a907f202",
   "metadata": {},
   "outputs": [],
   "source": [
    "# make a copy instead make direct modifcation to extracted point\n",
    "# so don't need to re-run is error made\n",
    "all_points = points_allframe.copy()"
   ]
  },
  {
   "cell_type": "code",
   "execution_count": 14,
   "id": "3f06422c",
   "metadata": {},
   "outputs": [],
   "source": [
    "# keep a saved csv \n",
    "with open(\"points.csv\",'w') as f:\n",
    "    for ls in all_points:\n",
    "        str_ls = ''\n",
    "        for coords in ls:\n",
    "            str_ls += ','.join(str(item) for item in coords)\n",
    "            str_ls += ','\n",
    "        str_ls = str_ls[:-1]\n",
    "        str_ls += '\\n'\n",
    "        f.write(str_ls)"
   ]
  },
  {
   "cell_type": "code",
   "execution_count": 15,
   "id": "78aa1e6a",
   "metadata": {},
   "outputs": [],
   "source": [
    "# read a saved csv \n",
    "points_csv = []\n",
    "with open(\"points.csv\",'r') as f:\n",
    "    for line in f:\n",
    "        points = []\n",
    "        line = line.strip('\\n').split(',')\n",
    "        for i in range(int(len(line)/2)):\n",
    "            y = int(line[2*i])\n",
    "            x = int(line[2*i+1])\n",
    "            p = [y, x]\n",
    "            #print(y, x)\n",
    "            points.append(p)\n",
    "        points_csv.append(points)\n"
   ]
  },
  {
   "cell_type": "markdown",
   "id": "e3fc05ff",
   "metadata": {},
   "source": [
    "## 8. Further Processing to  Assign each point to a body part (Keep 5 points per frame)"
   ]
  },
  {
   "cell_type": "markdown",
   "id": "df39bb93",
   "metadata": {},
   "source": [
    "### 8.1 Function to get boundaries from the set of coordinate\n",
    "gets the left, right, top, bottom bound of the monkey(extracted coordinates) in a frame"
   ]
  },
  {
   "cell_type": "code",
   "execution_count": 16,
   "id": "c8ea309e",
   "metadata": {},
   "outputs": [],
   "source": [
    "def getBound(coords):\n",
    "    boundL = fx\n",
    "    boundR = 0 \n",
    "    boundT = fy\n",
    "    boundB = 0\n",
    "\n",
    "    # get bound of points# [y, x]\n",
    "    for coor in coords:  \n",
    "        y = coor[0]\n",
    "        x = coor[1]\n",
    "        if y < boundT:\n",
    "            boundT = y\n",
    "        if y > boundB:\n",
    "            boundB = y\n",
    "        if x < boundL:\n",
    "            boundL = x\n",
    "        if x > boundR:\n",
    "            boundR = x\n",
    "    \n",
    "    return [boundL, boundR, boundT, boundB]"
   ]
  },
  {
   "cell_type": "markdown",
   "id": "e833dc18",
   "metadata": {},
   "source": [
    "### 8.2 Function to assign Point to body part base on distance to the boundaries\n",
    "#### (Method 1) - used for first frame and when there is more than 5 points in the frame"
   ]
  },
  {
   "cell_type": "code",
   "execution_count": 17,
   "id": "61ad56da",
   "metadata": {},
   "outputs": [],
   "source": [
    "# assign coord to body part base on bound\n",
    "# top-left = left arm\n",
    "# top-right = right arm\n",
    "# centre = body\n",
    "# bot-left = left leg\n",
    "# bot-right = right leg\n",
    "def assign_on_bound(boundL, boundR, boundT, boundB, coords):\n",
    "    max_dist = math.dist([boundL, boundT], [boundR, boundB])\n",
    "    left_arm = right_arm = body = left_leg = right_leg = [-1, -1]\n",
    "    lt = lb = rt = rb = ct = max_dist\n",
    "    for coor in coords:\n",
    "        y = coor[0]\n",
    "        x = coor[1]\n",
    "        # lt\n",
    "        if math.dist([boundL, boundT], [x, y]) <= lt:\n",
    "            lt = math.dist([boundL, boundT], [x, y]) \n",
    "            left_arm = tuple([y, x])\n",
    "        if math.dist([boundR, boundT], [x, y]) <= rt:\n",
    "            rt = math.dist([boundR, boundT], [x, y]) \n",
    "            right_arm = tuple([y, x])\n",
    "        if math.dist([boundL, boundB], [x, y]) <= lb:\n",
    "            lb = math.dist([boundL, boundB], [x, y]) \n",
    "            left_leg = tuple([y, x])\n",
    "        if math.dist([boundR, boundB], [x, y]) <= rb:\n",
    "            rb = math.dist([boundR, boundB], [x, y]) \n",
    "            right_leg = tuple([y, x])\n",
    "        if math.dist([(boundL+boundR)/2, (boundT+boundB)/2], [x, y]) <= ct:\n",
    "            ct = math.dist([(boundL+boundR)/2, (boundT+boundB)/2], [x, y]) \n",
    "            body = tuple([y, x])\n",
    "        \n",
    "    return [body, left_arm, right_arm, left_leg, right_leg ]\n",
    "\n",
    "\n",
    "# get displacement between centriod of rect bound\n",
    "def get_bound_dist(b1, b2):\n",
    "    b1c = [(b1[0]+b1[1])/2, (b1[2]+b1[3])/2]\n",
    "    b2c = [(b2[0]+b2[1])/2, (b2[2]+b2[3])/2]\n",
    "\n",
    "    return math.dist(b1c, b2c)\n",
    "\n"
   ]
  },
  {
   "cell_type": "markdown",
   "id": "5b8abd0a",
   "metadata": {},
   "source": [
    "### 8.3 Function to assign Point to body part base on distance between previously assign points\n",
    "#### (Method 2) - used when less or equal to 5 points in a frame"
   ]
  },
  {
   "cell_type": "code",
   "execution_count": 18,
   "id": "a6631301",
   "metadata": {},
   "outputs": [],
   "source": [
    "def assign_parts(prev_bounds, curr_bounds, curr_points, prev_points):\n",
    "    # print(curr_points)\n",
    "    # print(prev_points)\n",
    "    boundL = curr_bounds[0]\n",
    "    boundR = curr_bounds[1]\n",
    "    boundT = curr_bounds[2]\n",
    "    boundB = curr_bounds[3]\n",
    "    centx = (boundR + boundL)/2\n",
    "    centy = (boundB + boundT)/2\n",
    "\n",
    "    \n",
    "\n",
    "    # for points in current frame\n",
    "    # look for closets parts in previous frame\n",
    "    closests = []\n",
    "    for p in curr_points:\n",
    "        min_dist = float('inf')\n",
    "        closest = None\n",
    "        for prev in prev_points:\n",
    "            if math.dist(p, prev) < min_dist:\n",
    "                min_dist = math.dist(p, prev)\n",
    "                closest = prev\n",
    "        #print(closest)\n",
    "        closests.append(closest)\n",
    "\n",
    "    curr_parts = prev_points.copy()\n",
    "    for i in range(0, len(curr_parts)):\n",
    "        for j in range(0, len(closests)):\n",
    "            if curr_parts[i] == closests[j]:\n",
    "                curr_parts[i] = curr_points[j]\n",
    "\n",
    "    # check\n",
    "    left_arm = curr_parts[1]\n",
    "    body = curr_parts[0]\n",
    "    if body[1] < left_arm[1]:\n",
    "        curr_parts[0] = left_arm\n",
    "        curr_parts[1] = body\n",
    "\n",
    "    return curr_parts\n"
   ]
  },
  {
   "cell_type": "markdown",
   "id": "a3137e20",
   "metadata": {},
   "source": [
    "### 8.5 Process all points"
   ]
  },
  {
   "cell_type": "code",
   "execution_count": 19,
   "id": "150e3c9b",
   "metadata": {},
   "outputs": [],
   "source": [
    "# for following frames consider the closets to prev point\n",
    "# look for closets point within some radius\n",
    "all_parts = []\n",
    "z = 0\n",
    "dup = 0 \n",
    "dup1 = 0\n",
    "for f in all_points:\n",
    "    candidates = []\n",
    "    prev_parts = []\n",
    "    z +=1\n",
    "    # for first frame, define by considering the distance to bounds\n",
    "    if len(f) > 5 or f==all_points[0]:\n",
    "        prev_parts = f.copy()\n",
    "        boundL, boundR, boundT, boundB = getBound(f)\n",
    "        candidates = assign_on_bound(boundL, boundR, boundT, boundB, f)\n",
    "        all_parts.append(candidates)\n",
    "    else:\n",
    "        prev_parts = all_parts[-1].copy()\n",
    "        candidates = prev_parts.copy()\n",
    "        curr_to_prev = [ [] for i in range(5) ]\n",
    "        for coor in f:\n",
    "            min_dist = float('inf')\n",
    "            part_i = -1\n",
    "            for i in range(0, len(prev_parts)):\n",
    "                if math.dist(prev_parts[i], coor) < min_dist:\n",
    "                    min_dist = math.dist(prev_parts[i], coor)\n",
    "                    part_i = i\n",
    "            curr_to_prev[part_i].append(tuple(coor))\n",
    "        \n",
    "        for i in range(len(curr_to_prev)):\n",
    "            if(len(curr_to_prev[i])) == 1:\n",
    "                candidates[i] = tuple(curr_to_prev[i][0])\n",
    "            elif(len(curr_to_prev[i])) >= 1:\n",
    "                # get ave of all points\n",
    "                y = 0\n",
    "                x = 0\n",
    "                for j in range(len(curr_to_prev[i])):\n",
    "                    y += curr_to_prev[i][j][0]\n",
    "                    x += curr_to_prev[i][j][1]\n",
    "                y = y/len(curr_to_prev[i])\n",
    "                x = x/len(curr_to_prev[i])\n",
    "                candidates[i] = tuple([int(y), int(x)])\n",
    "\n",
    "        all_parts.append(candidates)\n",
    "    # if two parts used same point\n",
    "    if len(set(candidates)) < len(candidates):\n",
    "        for i in range(0, len(candidates)-1):\n",
    "            solved = False\n",
    "            for j in range(i+1, len(candidates)):\n",
    "                if candidates[i] == candidates[j]:\n",
    "                    #candidates[i] = tuple(prev_parts[i])\n",
    "                    candidates[j] = tuple(prev_parts[j])\n",
    "                    solved = True \n",
    "                    break \n",
    "            if solved:\n",
    "                break\n",
    "\n"
   ]
  },
  {
   "cell_type": "markdown",
   "id": "2c7d93bf",
   "metadata": {},
   "source": [
    "### 8.4 Draw square with different colour base on assigned part\n",
    "#### (For visualisation purpose)"
   ]
  },
  {
   "cell_type": "code",
   "execution_count": 20,
   "id": "47c61748",
   "metadata": {},
   "outputs": [],
   "source": [
    "def processed_rect(processed_img, parts, radius):\n",
    "    processed_img = np.zeros(rgb_img.shape)\n",
    "    height_max, width_max, channels  = processed_img.shape\n",
    "\n",
    "    colours = [[255,0,0],[0,255,0],[0,0,255],[255,255,0],[255,0,255]]\n",
    "\n",
    "    for i in range(0,len(parts)):\n",
    "        r0,c0 = parts[i]\n",
    "\n",
    "        l = max(0, c0-radius) \n",
    "        r = min(width_max-1, c0+radius)\n",
    "        t = max(0, r0-radius) \n",
    "        b = min(height_max-1, r0+radius)\n",
    "        \n",
    "        processed_img[t:b, l:r] = colours[i]\n",
    "\n",
    "    return processed_img"
   ]
  },
  {
   "cell_type": "code",
   "execution_count": 21,
   "id": "7a839bda",
   "metadata": {},
   "outputs": [],
   "source": [
    "process_frame = 0\n",
    "\n",
    "for i in range(0, len(all_parts)):\n",
    "    p = all_parts[i]\n",
    "\n",
    "    # # for visualisation purpose\n",
    "    processed_img = processed_rect(rgb_img, p, 20)\n",
    "    #plt.imshow(processed_img)\n",
    "    cv2.imwrite('processed/%d.tif' % i, processed_img)\n"
   ]
  },
  {
   "cell_type": "markdown",
   "id": "c2a7c731",
   "metadata": {},
   "source": [
    "## 9. Save the processed points into a CSV file\n",
    "5 points per line/frame as : \n",
    "body, left_arm, right_arm, left_leg, right_leg"
   ]
  },
  {
   "cell_type": "code",
   "execution_count": 22,
   "id": "97692381",
   "metadata": {},
   "outputs": [],
   "source": [
    "# keep a saved csv \n",
    "with open(\"coords.csv\",'w') as f:\n",
    "    for ls in all_parts:\n",
    "        str_ls = ''\n",
    "        for coords in ls:\n",
    "            str_ls += ','.join(str(item) for item in coords)\n",
    "            str_ls += ','\n",
    "        str_ls = str_ls[:-1]\n",
    "        str_ls += '\\n'\n",
    "        f.write(str_ls)"
   ]
  }
 ],
 "metadata": {
  "kernelspec": {
   "display_name": "Python 3 (ipykernel)",
   "language": "python",
   "name": "python3"
  },
  "language_info": {
   "codemirror_mode": {
    "name": "ipython",
    "version": 3
   },
   "file_extension": ".py",
   "mimetype": "text/x-python",
   "name": "python",
   "nbconvert_exporter": "python",
   "pygments_lexer": "ipython3",
   "version": "3.8.5"
  },
  "vscode": {
   "interpreter": {
    "hash": "2afdca8f70b9f9f77c5d249cdce1221fa9bba527d701426b4b260e465f8ff569"
   }
  }
 },
 "nbformat": 4,
 "nbformat_minor": 5
}
